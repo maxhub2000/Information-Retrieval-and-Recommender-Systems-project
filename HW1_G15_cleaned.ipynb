{
 "cells": [
  {
   "cell_type": "markdown",
   "metadata": {},
   "source": [
    "# Homework 1: Information Retrieval\n",
    "## Instructions\n",
    "1. Students will form teams of three people each and submit a single homework for each team in the format - ID1_ID2_ID3.ipynb\n",
    "2. Groups of four are not allowed.\n",
    "2. **Do not write your names anywhere.**\n",
    "3. For the code part: \n",
    "> **Write your code only in the mentioned sections. Do not change the code of other sections**. Do not use any imports unless we say so.\n",
    "4. For theoretical questions, if any - write your answer in the markdown cell dedicated to this task, in **English**.\n",
    "\n",
    "\n",
    "#### Deviation from the aforementioned  instructions will lead to reduced grade\n",
    "---\n",
    "\n",
    "\n",
    "## Clarifications\n",
    "1. The same score for the homework will be given to each member of the team.  \n",
    "2. The goal of this homework is to test your understanding of the concepts presented in the lectures. \\\n",
    "If a topic was not covered in detail during the lecture, you are asked to study it online on your own. \n",
    "Anyhow, we provide here detailed explanations for the code part and if you have problems - ask.\n",
    "3. Questions can be sent to the forum, you are encouraged to ask questions but do so after you have been thinking about your question. \n",
    "4. The length of the empty gaps (where you are supposed to write your code) is a recommendation (the amount of space took us to write the solution) and writing longer code will not harm your grade. We do not expect you to use the programming tricks and hacks we used to make the code shorter.   \n",
    "Having said that, we do encourage you to write good code and keep that in mind - **extreme** cases may be downgraded.  \n",
    "We also encourage to use informative variable names - it is easier for us to check and for you to understand. \n",
    "\n",
    "For your convenience, , the code has a **DEBUG** mode that you may use in order to debug with toy data.  \n",
    "It is recommended to solve the code in that mode (with efficiency in mind) and then run the code on all the data.\n",
    "**Do not forget to file the HW with DEBUG == False**.\n",
    "\n",
    "Download the \"Lyrics\" dataset from Moodle and put it in the same directory your script is.\n",
    "\n",
    "\n",
    "5. We use Python 3.7 for programming.\n",
    "6. Make sure you have all the packages and functions used in the import section. Most of it is native to Anaconda Python distribution.\n",
    "\n",
    "### Have fun !"
   ]
  },
  {
   "cell_type": "markdown",
   "metadata": {},
   "source": [
    "# Imports"
   ]
  },
  {
   "cell_type": "code",
   "execution_count": 1,
   "metadata": {},
   "outputs": [],
   "source": [
    "import numpy as np\n",
    "import pandas as pd\n",
    "import matplotlib.pyplot as plt\n",
    "from collections import Counter\n",
    "%matplotlib inline\n",
    "from tqdm import tqdm\n",
    "from typing import List,Dict\n",
    "from IPython.display import Image\n",
    "from IPython.core.display import HTML \n",
    "from pathlib import Path"
   ]
  },
  {
   "cell_type": "code",
   "execution_count": 2,
   "metadata": {},
   "outputs": [
    {
     "name": "stderr",
     "output_type": "stream",
     "text": [
      "[nltk_data] Downloading package stopwords to\n",
      "[nltk_data]     /Users/zahere/nltk_data...\n",
      "[nltk_data]   Package stopwords is already up-to-date!\n",
      "[nltk_data] Downloading package punkt to /Users/zahere/nltk_data...\n",
      "[nltk_data]   Package punkt is already up-to-date!\n"
     ]
    }
   ],
   "source": [
    "from nltk.tokenize import word_tokenize \n",
    "from nltk.stem.porter import PorterStemmer\n",
    "import nltk\n",
    "nltk.download(\"stopwords\")\n",
    "nltk.download(\"punkt\")\n",
    "from string import punctuation, ascii_lowercase\n",
    "from nltk.corpus import stopwords"
   ]
  },
  {
   "cell_type": "markdown",
   "metadata": {},
   "source": [
    "# Debug\n",
    "**you can change this cell**"
   ]
  },
  {
   "cell_type": "code",
   "execution_count": 4,
   "metadata": {},
   "outputs": [],
   "source": [
    "# DEBUG = True\n",
    "DEBUG = False\n",
    "\n",
    "\"\"\"\n",
    "Recommended to start with a small number to get a feeling for the preprocessing with prints (N_ROWS_FOR_DEBUG = 2)\n",
    "later increase this number for 5*10**3 in order to see that the code runs at reasonable speed, and change the CHUNK_SIZE accordinaly\n",
    "When setting Debug == False, our code implements bow.fit() in 15-20 minutes according to the tqdm progress bar. Your solution is not supposed to be much further than that.\n",
    "\"\"\"\n",
    "N_ROWS_FOR_DEBUG = 2\n",
    "CHUNCK_SIZE = 1 if DEBUG else 5*10**3"
   ]
  },
  {
   "cell_type": "markdown",
   "metadata": {},
   "source": [
    "# Config"
   ]
  },
  {
   "cell_type": "code",
   "execution_count": 5,
   "metadata": {},
   "outputs": [],
   "source": [
    "INPUT_FILE_PATH = Path(\"lyrics.csv\")\n",
    "BOW_PATH = Path(\"bow.csv\")\n",
    "N_ROWS = N_ROWS_FOR_DEBUG if DEBUG else None\n",
    "tqdm_n_iterations = N_ROWS//CHUNCK_SIZE +1 if DEBUG else 363*10**3//CHUNCK_SIZE + 1\n",
    "COLS = [5]"
   ]
  },
  {
   "cell_type": "markdown",
   "metadata": {},
   "source": [
    "## 1.1 Bag of words model\n",
    "### Implement the following methods:\n",
    "\n",
    "* `preprocess_sentence`: \n",
    "    * Lower case the word\n",
    "    * Ignores it if it's in the stopwords list\n",
    "    * Removes characters which are not in the allowed symbols\n",
    "    * Stems it and appends it to the output sentence\n",
    "    * Discards words with length <= 1\n",
    "    \n",
    "    \n",
    "* `update_counts_and_probabilities`: \n",
    "\n",
    "    * Update self.unigram count (the amount of time each word is in the text)\n",
    "    * Update self.bigram count (two consecutive word occurances)\n",
    "    * Update self.trigram count (three consecutive word occurances)\n",
    "    * Update inverted index: a dictionary with words as keys and the values is a dictionary - {'DocID' : word_count}   \n",
    "    \n",
    "* `compute_word_document_frequency`:\n",
    "\n",
    "   * For each word count the number of docs it appears in. For example , for the word 'apple' -\n",
    "$$\\sum_{i \\in docs} I(apple \\in doc_i), I := Indicator function$$\n",
    "\n",
    "\n",
    "* `update_inverted_index_with_tf_idf_and_compute_document_norm`:\n",
    "\n",
    "    * Update the inverted index (which currently hold word counts) with tf idf weighing. We will compute tf by dividing with the number of words in each document. \n",
    "    * As we want to calculate the document norm, incrementally update the document norm. pay attention that later we apply sqrt to it to finish the process.\n",
    "\n",
    "#### The result of this code is a bag of words model that already counts for TF-IDF weighing"
   ]
  },
  {
   "cell_type": "code",
   "execution_count": 6,
   "metadata": {},
   "outputs": [],
   "source": [
    "stemmer = PorterStemmer()\n",
    "stop_words = set(stopwords.words('english'))\n",
    "allowed_symbols = set(l for l in ascii_lowercase)"
   ]
  },
  {
   "cell_type": "code",
   "execution_count": 7,
   "metadata": {},
   "outputs": [
    {
     "name": "stderr",
     "output_type": "stream",
     "text": [
      "100%|██████████| 73/73 [19:55<00:00, 16.38s/it]\n"
     ]
    }
   ],
   "source": [
    "\n",
    "def preprocess_sentence(sentence : str) -> List[str]:\n",
    "    output_sentence = []\n",
    "    for word in word_tokenize(sentence):\n",
    "        ### YOUR CODE HERE\n",
    "        _word = word.lower()  # lowercase\n",
    "        if (len(_word) > 1 and _word not in stop_words):  # initial check for word's length and not a stop word\n",
    "            cleaned = \"\"  # placeholder for the word without forbidden symbols\n",
    "            for ch in _word:\n",
    "                if ch in allowed_symbols:\n",
    "                    cleaned += ch\n",
    "            if cleaned and len(cleaned) > 1 and cleaned not in stop_words:  # if we still have a relevant word\n",
    "                _word = stemmer.stem(cleaned)  # stemming word\n",
    "                output_sentence.append(_word)  # adding processed word to final output\n",
    "        ### END YOUR CODE\n",
    "    return output_sentence\n",
    "\n",
    "\n",
    "def get_data_chuncks() -> List[str]:\n",
    "    for i ,chunck in enumerate(pd.read_csv(INPUT_FILE_PATH, usecols = COLS, chunksize = CHUNCK_SIZE, nrows = N_ROWS)):\n",
    "        chunck = chunck.values.tolist()\n",
    "        yield [chunck[i][0] for i in range(len(chunck))] \n",
    "\n",
    "class TfIdf:\n",
    "    def __init__(self):\n",
    "        self.unigram_count =  Counter()\n",
    "        self.bigram_count = Counter()\n",
    "        self.trigram_count = Counter()\n",
    "        self.document_term_frequency = Counter()\n",
    "        self.word_document_frequency = {}\n",
    "        self.inverted_index = {}\n",
    "        self.doc_norms = {}\n",
    "        self.n_docs = -1\n",
    "        self.sentence_preprocesser = preprocess_sentence\n",
    "        self.bow_path = BOW_PATH\n",
    "\n",
    "    def update_counts_and_probabilities(self, sentence :List[str],document_id:int) -> None:\n",
    "        sentence_len = len(sentence)\n",
    "        self.document_term_frequency[document_id] = sentence_len\n",
    "        for i,word in enumerate(sentence):\n",
    "            ### YOUR CODE HERE\n",
    "            self.unigram_count[word] += 1  # counting 1 word\n",
    "            if i < sentence_len - 1:  # we still have atleast another word after the current one \n",
    "                self.bigram_count[(word,sentence[i + 1])] += 1\n",
    "            if i < sentence_len - 2:  # we still have atleast 2 more words after the current one\n",
    "                self.trigram_count[(word,sentence[i + 1],sentence[i + 2])] += 1\n",
    "            if word not in self.inverted_index.keys():\n",
    "                self.inverted_index[word] = {document_id : 1}  # starting to count word's apperances in document\n",
    "            else:\n",
    "                if document_id not in self.inverted_index[word].keys():  # in case doc's id was not found\n",
    "                    self.inverted_index[word][document_id] = 1  # starting to count word's apperances in document\n",
    "                else:\n",
    "                    self.inverted_index[word][document_id] += 1  # adding word's apperance in document\n",
    "            ### END YOUR CODE\n",
    "        \n",
    "    def fit(self) -> None:\n",
    "        for chunck in tqdm(get_data_chuncks(), total = tqdm_n_iterations):\n",
    "            for sentence in chunck: #sentence is a song (string)\n",
    "                self.n_docs += 1 \n",
    "                if not isinstance(sentence, str):\n",
    "                    continue\n",
    "                sentence = self.sentence_preprocesser(sentence)\n",
    "                if sentence:\n",
    "                    self.update_counts_and_probabilities(sentence,self.n_docs)\n",
    "        self.save_bow() # bow is 'bag of words'\n",
    "        self.compute_word_document_frequency()\n",
    "        self.update_inverted_index_with_tf_idf_and_compute_document_norm()\n",
    "             \n",
    "    def compute_word_document_frequency(self):\n",
    "        for word in self.inverted_index.keys():\n",
    "            ### YOUR CODE HERE\n",
    "            self.word_document_frequency[word] = len(self.inverted_index[word].keys())\n",
    "            ### END YOUR CODE\n",
    "            \n",
    "    def update_inverted_index_with_tf_idf_and_compute_document_norm(self):\n",
    "        ### YOUR CODE HERE\n",
    "        N = len(self.document_term_frequency.keys()) # number of documents\n",
    "        for word in self.inverted_index.keys():\n",
    "            word_doc_weights = {}\n",
    "            for doc in self.inverted_index[word].keys():\n",
    "                tf = self.inverted_index[word][doc] / self.document_term_frequency[doc]\n",
    "                df = self.word_document_frequency[word]\n",
    "                tmp_arr = np.array([N / df])  # for numpy log10 function usage\n",
    "                idf = np.log10(tmp_arr)[0]\n",
    "                w_ij = tf * idf \n",
    "                word_doc_weights[doc] = w_ij  # replacing int with weight\n",
    "                if doc not in self.doc_norms.keys():\n",
    "                    self.doc_norms[doc] = w_ij ** 2\n",
    "                else:\n",
    "                    self.doc_norms[doc] += w_ij ** 2\n",
    "                    \n",
    "            self.inverted_index[word] = word_doc_weights\n",
    "        ### END YOUR CODE\n",
    "        \n",
    "        for doc in self.doc_norms.keys():\n",
    "            self.doc_norms[doc] = np.sqrt(self.doc_norms[doc]) \n",
    "            \n",
    "    def save_bow(self):\n",
    "        pd.DataFrame([self.inverted_index]).T.to_csv(self.bow_path)\n",
    "                \n",
    "tf_idf = TfIdf()\n",
    "tf_idf.fit()"
   ]
  },
  {
   "cell_type": "markdown",
   "metadata": {},
   "source": [
    "**You need to run the TfIdf model without the DEBUG mode until this stage**\n",
    "\n",
    "## 1.11 Bag of words model:\n",
    "\n",
    "1. What is the computational complexity of this model, as a function of the number of docs in the corpus?\n",
    "2. How can we make this code better in terms running time (parallelization or other topics you find)? "
   ]
  },
  {
   "cell_type": "markdown",
   "metadata": {},
   "source": [
    "### YOUR SOLUTION HERE\n",
    "1. Computational complexity of this model:\n",
    "    Words as V, Documents as D:\n",
    "    O(|V|*|D| + |D|) = O(|V|*|D|)\n",
    "\n",
    "2. Improving running time using parallelization:\n",
    "    In the current method we process each term in V one by one using a single processing unit. \n",
    "    since each term in V is unique, we can divide V into smaller batches and sent each bath to a seperate processing unit to run in parallel. \n",
    "    at the end, we combine all the dictionaries into one.\n",
    "\n",
    "\n",
    "\n",
    "\n",
    "\n",
    "\n",
    "\n",
    "\n",
    "\n",
    "\n",
    "\n",
    "\n",
    "\n",
    "\n",
    "\n",
    "\n",
    "\n",
    "\n",
    "\n",
    "\n",
    "### END YOUR SOLUTION HERE\n"
   ]
  },
  {
   "cell_type": "markdown",
   "metadata": {},
   "source": [
    "## 1.2 DocumentRetriever\n",
    "Not this retriever &#8595;"
   ]
  },
  {
   "cell_type": "markdown",
   "metadata": {},
   "source": [
    "\n",
    "![dsafdsafsdafdsf](https://cdn3-www.dogtime.com/assets/uploads/2019/10/golden-cocker-retriever-mixed-dog-breed-pictures-cover-1.jpg)"
   ]
  },
  {
   "cell_type": "markdown",
   "metadata": {},
   "source": [
    "### Implement the following methods:\n",
    "\n",
    "`reduce_query_to_counts`: given a list of words returns a counter object with words as keys and counts as values.\n",
    "\n",
    "`rank`: given a query and relevant documents calculate the similarity (cosine or inner product simmialrity) between each document and the query.   \n",
    "Make sure to transform the query word counts to tf idf as well. \n",
    "\n",
    "`sort_and_retrieve_k_best`: returns the top k documents.\n",
    "\n"
   ]
  },
  {
   "cell_type": "code",
   "execution_count": 8,
   "metadata": {},
   "outputs": [],
   "source": [
    "class DocumentRetriever:\n",
    "    def __init__(self, tf_idf):\n",
    "        self.sentence_preprocesser = preprocess_sentence  \n",
    "        self.vocab = set(tf_idf.unigram_count.keys())\n",
    "        self.n_docs = tf_idf.n_docs\n",
    "        self.inverted_index = tf_idf.inverted_index\n",
    "        self.word_document_frequency = tf_idf.word_document_frequency\n",
    "        self.doc_norms = tf_idf.doc_norms\n",
    "        \n",
    "    def rank(self,query : Dict[str,int],documents: Dict[str,Counter],metric: str ) -> Dict[int, float]:\n",
    "        result = {}  # key: DocID , value : float , similarity to query\n",
    "        query_len = np.sum(np.array(list(query.values())))\n",
    "        ### YOUR CODE HERE\n",
    "        # query tf-idf transformation  \n",
    "        # for each relevant doc: cosine similarity score\n",
    "        N = len(tf_idf.document_term_frequency.keys()) # number of documents\n",
    "        for term in query.keys():\n",
    "            tf_query = query[term] / query_len\n",
    "            idf_query = np.log10([N / self.word_document_frequency[term]])[0]\n",
    "            q = tf_query * idf_query\n",
    "#             w_iq = tf_query * idf_query\n",
    "\n",
    "            for doc in documents[term].keys():\n",
    "                if doc not in result:\n",
    "                    result[doc] = q * documents[term][doc]\n",
    "#                     result[doc] = w_iq * self.inverted_index[term][doc]\n",
    "                else:\n",
    "                    result[doc] += q* documents[term][doc]\n",
    "#                     result[doc] += w_iq * self.inverted_index[term][doc]\n",
    "        \n",
    "         ### END YOUR CODE\n",
    "        if metric == 'cosine':\n",
    "        ### YOUR CODE HERE\n",
    "            for doc in result.keys():\n",
    "                result[doc] *= self.doc_norms[doc] * (1 / query_len)\n",
    "#                 result[doc] = result[doc] / self.doc_norms[doc]\n",
    "        ### END YOUR CODE\n",
    "        return result\n",
    "        \n",
    "    \n",
    "    def sort_and_retrieve_k_best(self, scores: Dict[str, float],k :int):\n",
    "        ### YOUR CODE HERE \n",
    "        # rank similarity scores, return top k docs\n",
    "        return list(dict(Counter(scores).most_common(k)).keys())\n",
    "        ### END YOUR CODE\n",
    "        pass\n",
    "    \n",
    "    def reduce_query_to_counts(self, query : List)->  Counter:\n",
    "        ### YOUR CODE HERE\n",
    "        return Counter(query)\n",
    "        ### END YOUR CODE\n",
    "        \n",
    "        \n",
    "    def get_top_k_documents(self,query : str, metric: str , k = 5) -> List[str]:\n",
    "        query = self.sentence_preprocesser(query)\n",
    "        query = [word for word in query if word in self.vocab] # filter nan \n",
    "        query_bow = self.reduce_query_to_counts(query)\n",
    "        relavant_documents = {word : self.inverted_index.get(word) for word in query}\n",
    "        ducuments_with_similarity = self.rank(query_bow,relavant_documents, metric)\n",
    "        return self.sort_and_retrieve_k_best(ducuments_with_similarity,k)\n",
    "        \n",
    "dr = DocumentRetriever(tf_idf)"
   ]
  },
  {
   "cell_type": "code",
   "execution_count": 9,
   "metadata": {},
   "outputs": [
    {
     "name": "stderr",
     "output_type": "stream",
     "text": [
      "/Users/zahere/anaconda3/envs/torchenv/lib/python3.8/site-packages/IPython/core/display.py:717: UserWarning: Consider using IPython.display.IFrame instead\n",
      "  warnings.warn(\"Consider using IPython.display.IFrame instead\")\n"
     ]
    },
    {
     "data": {
      "text/html": [
       "<iframe width=\"560\" height=\"315\" src=\"https://www.youtube.com/embed/KT6ZtUbVw1M?rel=0&amp;controls=0&amp;showinfo=0\" frameborder=\"0\" allowfullscreen></iframe>"
      ],
      "text/plain": [
       "<IPython.core.display.HTML object>"
      ]
     },
     "execution_count": 9,
     "metadata": {},
     "output_type": "execute_result"
    }
   ],
   "source": [
    "from IPython.display import HTML\n",
    "query = \"Better stop dreaming of the quiet life, 'cause it's the one we'll never know And quit running for that runaway bus 'cause those rosy days are few And stop apologizing for the things you've never done 'Cause time is short and life is cruel but it's up to us to change This town called malice\"\n",
    "HTML('<iframe width=\"560\" height=\"315\" src=\"https://www.youtube.com/embed/KT6ZtUbVw1M?rel=0&amp;controls=0&amp;showinfo=0\" frameborder=\"0\" allowfullscreen></iframe>')"
   ]
  },
  {
   "cell_type": "code",
   "execution_count": 10,
   "metadata": {},
   "outputs": [
    {
     "name": "stdout",
     "output_type": "stream",
     "text": [
      "[94798, 66192, 61393, 264880, 128160]\n",
      "[66192, 128160, 309297, 318295, 274541]\n"
     ]
    }
   ],
   "source": [
    "cosine_top_k = dr.get_top_k_documents(query, 'cosine')\n",
    "print(cosine_top_k)\n",
    "inner_product_top_k = dr.get_top_k_documents(query, 'inner_product')\n",
    "print(inner_product_top_k)"
   ]
  },
  {
   "cell_type": "code",
   "execution_count": 11,
   "metadata": {},
   "outputs": [
    {
     "name": "stdout",
     "output_type": "stream",
     "text": [
      "##################################################\n",
      "song #0 \n",
      "more important is what i'm not doing. theirs less to\n",
      "apologize for. non-action \n",
      "##################################################\n",
      "##################################################\n",
      "song #1 \n",
      "I hear people talk\n",
      "I see people walk\n",
      "They seem so out of touch\n",
      "I wanna get away so much\n",
      "All the clockwork toys\n",
      "Are making too much noise\n",
      "It's the machinery\n",
      "It's breaking down, oh can't you see\n",
      "Run runaway, run runaway\n",
      "Run runaway with me\n",
      "Run runaway, run runaway\n",
      "Run runaway with me\n",
      "The picture doesn't change\n",
      "It's just a frozen frame\n",
      "I wanna break the ice\n",
      "I wanna go to paradise\n",
      "There is nowhere to hide\n",
      "I'll take you for a ride\n",
      "But not if you kiss and tell\n",
      "I don't mean on a carousel\n",
      "Won't you run runaway, run runaway\n",
      "Run runaway with me\n",
      "Run runaway, run runaway\n",
      "Run runaway with me\n",
      "One day I'm to say my\n",
      "Three wishes came true\n",
      "Till then I pretend I'm\n",
      "Escaping with you, you, you, you\n",
      "Run runaway, run runaway\n",
      "Run runaway with me\n",
      "Run runaway, run runaway\n",
      "Run runaway with me\n",
      "Run runaway, run runaway\n",
      "Run runaway with me\n",
      "Run runaway, run runaway\n",
      "Run runaway with me\n",
      "Run runaway, run runaway\n",
      "Run runaway with me\n",
      "Run runaway, run runaway\n",
      "Run runaway with me\n",
      "Run runaway, run runaway\n",
      "Run runaway with me\n",
      "Run runaway, run runaway\n",
      "Run runaway with me \n",
      "##################################################\n",
      "##################################################\n",
      "song #2 \n",
      "Stop\n",
      "Stop\n",
      "Stop\n",
      "Make it stop \n",
      "##################################################\n",
      "##################################################\n",
      "song #3 \n",
      "Be more quiet, now, and wait for a voice to say 'be more quiet.. \n",
      "##################################################\n",
      "##################################################\n",
      "song #4 \n",
      "I always wanted you by my side\n",
      "I felt you we're my guide\n",
      "The one who showed me what's right\n",
      "I used to think that you we're my light\n",
      "And trusted in your smile\n",
      "But now you have decide\n",
      "Runaway, runaway, runaway\n",
      "Searching everyday, try to find your way\n",
      "Runaway, runaway, runaway\n",
      "Wanna find you, oh baby wanna\n",
      "Runaway, runaway, runaway\n",
      "Everything is grey, miss you more each day\n",
      "Runaway, runaway, runaway\n",
      "I will find you, you'll never runaway\n",
      "I always wanted you by my side\n",
      "I felt you we're my guide\n",
      "The one who show me what's right\n",
      "I used to think that you we're my light\n",
      "And trusted in your smile\n",
      "But now you have decide\n",
      "Runaway, runaway, runaway\n",
      "Searching everyday, try to find your way\n",
      "Runaway, runaway, runaway\n",
      "Wanna find you, oh baby wanna\n",
      "Runaway, runaway, runaway\n",
      "Everything is grey, miss you more each day\n",
      "Runaway, runaway, runaway\n",
      "I will find you, you'll never runaway\n",
      "I'm running now, I'm running away\n",
      "Searching for, searching for your smile\n",
      "Every hour I'm looking for you\n",
      "I'm looking for away, I'm looking for you\n",
      "Runaway, runaway, runaway\n",
      "Searching everyday, try to find your way\n",
      "Runaway, runaway, runaway\n",
      "Wanna find you, oh baby wanna\n",
      "Runawaaaaay\n",
      "(Searching everyday, try to find your way)\n",
      "Oh baby, baby ... runawaaay\n",
      "Search \n",
      "##################################################\n"
     ]
    }
   ],
   "source": [
    "for index, song in enumerate(pd.read_csv(INPUT_FILE_PATH,usecols = [5]).iloc[cosine_top_k]['lyrics']):\n",
    "    sep = \"#\"*50\n",
    "    print(F\"{sep}\\nsong #{index} \\n{song} \\n{sep}\")"
   ]
  },
  {
   "cell_type": "markdown",
   "metadata": {},
   "source": [
    "# 1.3 term statistics:\n",
    "Use \"tf_idf\" object that we created earlier and answer the following questions:\n",
    "\n",
    "1. How many unique words we have?\n",
    "2. How many potential word bigrams we have (depend on the unique words we have)? How many actual word bigrams we have? How do you explain this difference?\n",
    "3. What is the storage size of the input file \"lyrics.csv\"? What is the output file (bow.csv) size? how do you explain this difference?  "
   ]
  },
  {
   "cell_type": "code",
   "execution_count": 12,
   "metadata": {},
   "outputs": [
    {
     "name": "stdout",
     "output_type": "stream",
     "text": [
      "1. There are 387346 unique words.\n",
      "2. Potentially, there are (387346 choose 2) = 75018268185 unique bigrams while 6309284 were found.\n",
      "3. 324.632382 (MB), 192.874339 (MB) are the storage sizes of lyrics.csv and bow.csv files respectively.\n"
     ]
    },
    {
     "data": {
      "text/plain": [
       "'\\n### Your verbal solution here\\n\\n\\n\\n\\n### End your verbal solution here\\n'"
      ]
     },
     "execution_count": 12,
     "metadata": {},
     "output_type": "execute_result"
    }
   ],
   "source": [
    "# 1. \n",
    "### YOUR SOLUTION HERE\n",
    "n_unigr = len(tf_idf.unigram_count.keys())\n",
    "print(f\"1. There are {n_unigr} unique words.\")\n",
    "### END YOUR SOLUTION\n",
    "\n",
    "\"\"\"\n",
    "### Your verbal solution here\n",
    "There are 387346 unique words.\n",
    "### End your verbal solution here\n",
    "\"\"\"\n",
    "\n",
    "# 2.\n",
    "### YOUR SOLUTION HERE\n",
    "# from math import comb\n",
    "# print(comb(n_uni,2))\n",
    "# pot_n_bigr = n_uni\n",
    "# print(pot_n_bigr)\n",
    "n_bigr = len(tf_idf.bigram_count.keys())\n",
    "print(f\"2. Potentially, there are ({n_unigr} choose 2) = {75018268185} unique bigrams while {n_bigr} were found.\")\n",
    "### END YOUR SOLUTION\n",
    "\n",
    "\"\"\"\n",
    "### Your verbal solution here\n",
    "\n",
    "\n",
    "\n",
    "### End your verbal solution here\n",
    "\"\"\"\n",
    "\n",
    "# 3.\n",
    "### YOUR SOLUTION HERE\n",
    "# pd.read_csv(INPUT_FILE_PATH).info(memory_usage='deep')\n",
    "# pd.read_csv(BOW_PATH).info(memory_usage='deep')\n",
    "print(f\"3. {INPUT_FILE_PATH.stat().st_size*1e-6} (MB), {BOW_PATH.stat().st_size*1e-6} (MB) are the storage sizes of lyrics.csv and bow.csv files respectively.\")\n",
    "### END YOUR SOLUTION\n",
    "\n",
    "\"\"\"\n",
    "### Your verbal solution here\n",
    "\n",
    "\n",
    "\n",
    "\n",
    "### End your verbal solution here\n",
    "\"\"\""
   ]
  },
  {
   "cell_type": "markdown",
   "metadata": {},
   "source": [
    "## 1.4 NgramSpellingCorrector\n",
    "Now we will implement a Ngarm (character Ngrams) spelling corrector. That is, we have an out of vocabulary word (v) and we want to retrieve the most similar words (in our vocabulary) to this word.\n",
    "we will model the similarity of two words by-\n",
    "\n",
    "$$sim(v,w) := prior \\cdot likelihood = p(w) \\cdot P(v|w) $$ \n",
    "$$P(v|w) := JaccardIndex =  \\frac{|X \\cap Y|}{|X \\cup Y|}$$\n",
    "\n",
    "Where v is an out of vocabulary word (typo or spelling mistake), w is in a vocabulary word, X is the ngram set of v and Y is the ngram set of w.\n",
    "For example, if n == 3, the set of ngrams for word \"banana\" is set(\"ban\",\"ana\",\"nan\",\"ana\") = {\"ban\",\"ana\",\"nan\"}\n",
    "\n",
    "In order to do it efficently, we will first construct an index from the possible Ngrams we have seen in our corpus to the words that those Ngrams appear in, in order prevent comparing v to all of the words in our corpus.\n",
    "Then, we will implement a function that computes this similarity.\n",
    "\n",
    "* Make sure you compute the JaccardIndex efficently!"
   ]
  },
  {
   "cell_type": "code",
   "execution_count": 13,
   "metadata": {},
   "outputs": [
    {
     "data": {
      "text/plain": [
       "' \\nfor example - get_bigrams is a generator, which is an object we can loop on:\\nfor ngram in get_bigrams(word):\\n    DO SOMETHING\\n'"
      ]
     },
     "execution_count": 13,
     "metadata": {},
     "output_type": "execute_result"
    }
   ],
   "source": [
    "def get_bigrams(word):\n",
    "    for ngram in nltk.ngrams(word, 2):\n",
    "        yield \"\".join(list(ngram))\n",
    "    \n",
    "def get_trigrams(word):\n",
    "    for ngram in nltk.ngrams(word, 3):\n",
    "        yield \"\".join(list(ngram))\n",
    "        \n",
    "\"\"\" \n",
    "for example - get_bigrams is a generator, which is an object we can loop on:\n",
    "for ngram in get_bigrams(word):\n",
    "    DO SOMETHING\n",
    "\"\"\""
   ]
  },
  {
   "cell_type": "code",
   "execution_count": 14,
   "metadata": {},
   "outputs": [],
   "source": [
    "class NgramSpellingCorrector:\n",
    "    def __init__(self, unigram_counts: Counter, get_n_gram: callable):\n",
    "        self.unigram_counts = unigram_counts\n",
    "        self.ngram_index = {}\n",
    "        self.get_n_grams = get_n_gram\n",
    "    \n",
    "    def build_index(self) -> None:\n",
    "        ### YOUR CODE HERE\n",
    "        # for each word that was collected during docs indexing (fit process):\n",
    "        for word in self.unigram_counts.keys():\n",
    "            # using word as key refering to list of ngrams values:\n",
    "            self.ngram_index[word] = list(self.get_n_grams(word))  \n",
    "        ### END YOUR CODE\n",
    "        \n",
    "    def get_top_k_words(self,word:str,k=5) -> List[str]:\n",
    "        ### YOUR CODE HERE\n",
    "        word_ngram = list(self.get_n_grams(word))  # getting word's n_grams values\n",
    "        sim_scores = {}  # to keep resemblance score for each term\n",
    "        for term in self.unigram_counts.keys():  # for each term in the corpus\n",
    "            prior = self.unigram_counts[term]  # dividing with (# total terms) is redundant for comparison process\n",
    "            x_inter_y = list(set(word_ngram) & set(self.ngram_index[term]))  # getting intersection for JI numerator\n",
    "            temp = word_ngram[:]\n",
    "            temp.extend(self.ngram_index[term])\n",
    "            x_unif_y = set(temp)  # denominator for JI\n",
    "            ji = len(x_inter_y) / len(x_unif_y)  # calculating Jacard Index\n",
    "            sim_scores[term] = prior * ji  # calculating and storing term's similarity to input word\n",
    "        return list(dict(Counter(sim_scores).most_common(k)).keys())  # returning list of top k candidate terms\n",
    "        ### END YOUR CODE\n",
    "\n",
    "class BigramSpellingCorrector(NgramSpellingCorrector):\n",
    "    def __init__(self, unigram_counts: Counter):\n",
    "        super().__init__(unigram_counts, get_bigrams)\n",
    "        \n",
    "        \n",
    "class TrigramSpellingCorrector(NgramSpellingCorrector):\n",
    "    def __init__(self, unigram_counts: Counter):\n",
    "        super().__init__(unigram_counts, get_trigrams)\n",
    "        "
   ]
  },
  {
   "cell_type": "code",
   "execution_count": 15,
   "metadata": {},
   "outputs": [
    {
     "data": {
      "text/plain": [
       "['like', 'caus', 'life', 'still', 'time']"
      ]
     },
     "execution_count": 15,
     "metadata": {},
     "output_type": "execute_result"
    }
   ],
   "source": [
    "out_of_vocab_word = 'supercalifragilisticexpialidocious'\n",
    "bigram_spelling_corrector = BigramSpellingCorrector(tf_idf.unigram_count)\n",
    "bigram_spelling_corrector.build_index()\n",
    "bigram_spelling_corrector.get_top_k_words(out_of_vocab_word)"
   ]
  },
  {
   "cell_type": "code",
   "execution_count": 16,
   "metadata": {},
   "outputs": [
    {
     "data": {
      "text/plain": [
       "['life', 'still', 'call', 'listen', 'hous']"
      ]
     },
     "execution_count": 16,
     "metadata": {},
     "output_type": "execute_result"
    }
   ],
   "source": [
    "trigram_spelling_corrector = TrigramSpellingCorrector(tf_idf.unigram_count)\n",
    "trigram_spelling_corrector.build_index()\n",
    "trigram_spelling_corrector.get_top_k_words(out_of_vocab_word)"
   ]
  },
  {
   "cell_type": "markdown",
   "metadata": {},
   "source": [
    "## 1.5 Language model\n",
    "Calculate the log likelihood of a sentence. Once with a bigram markovian langauge model, and once with a trigram model.\n",
    "for example - the likelihood of the senetence \"spiderman spiderman does whatever a spider can\" for the bigram model is: \n",
    "$$p(spiderman)\\cdot p(spiderman|spiderman) \\cdot  p(does|spiderman) \\cdot p(whatever|does) \\cdot  p(a|whatever) \\cdot  p(spider|a) \\cdot p(can|spider)$$\n",
    "\n",
    "And for the trigram model:\n",
    "$$p(spiderman,spiderman)\\cdot p(does|spiderman,spiderman) \\cdot  p(whatever|spiderman,does) \\cdot p(a|does,whatever) \\cdot  p(spider|whatever,a) \\cdot  p(can|a, spider)$$\n",
    "\n",
    "Since we do not want a zero probability sentence use Laplace smoothing, as you have seen in the lecture, or here https://en.wikipedia.org/wiki/Additive_smoothing"
   ]
  },
  {
   "cell_type": "code",
   "execution_count": 20,
   "metadata": {},
   "outputs": [
    {
     "name": "stdout",
     "output_type": "stream",
     "text": [
      "Bigram log likelihood is 0.0006420185903802822\n",
      "Trigram log likelihood is 0.0009462199127339332\n"
     ]
    }
   ],
   "source": [
    "# for the probability smoothing\n",
    "NUMERATOR_SMOOTHING = 1 # alpha in https://en.wikipedia.org/wiki/Additive_smoothing\n",
    "DENOMINATOR_SMOOTHING = 10**4 # d in https://en.wikipedia.org/wiki/Additive_smoothing\n",
    "def sentence_log_probabilty(unigrams : Counter, bigrams  : Counter,trigrams : Counter, sentence: str):\n",
    "    bigram_log_likelilhood, trigram_log_likelilhood = 0, 0\n",
    "    words_in_sentence = sentence.split()\n",
    "    n_words = len(words_in_sentence)\n",
    "    for i, word in  enumerate(words_in_sentence):\n",
    "        ### YOUR CODE HERE\n",
    "        if i == 0: # Need to virefy it\n",
    "            bigram_log_likelilhood += np.log(unigrams[word] + NUMERATOR_SMOOTHING)/ (len(unigrams.keys()) + DENOMINATOR_SMOOTHING)\n",
    "\n",
    "        if i < n_words - 1:\n",
    "#             N1 = len(bigrams.keys())\n",
    "            N1 = unigrams[word]\n",
    "            bigram_log_likelilhood += np.log(bigrams[(word,words_in_sentence[i+1])] + NUMERATOR_SMOOTHING) / (N1 + DENOMINATOR_SMOOTHING)\n",
    "            trigram_log_likelilhood += np.log(bigrams[(word,words_in_sentence[i+1])] + NUMERATOR_SMOOTHING) / (N1 + DENOMINATOR_SMOOTHING)\n",
    "        if i < n_words - 2:\n",
    "#             N2 = len(trigrams.keys())\n",
    "            N2 = bigrams[word, words_in_sentence[i+1]]\n",
    "            trigram_log_likelilhood += np.log(trigrams[word,words_in_sentence[i+1],words_in_sentence[i+2]] + NUMERATOR_SMOOTHING) /  (DENOMINATOR_SMOOTHING + N2)\n",
    "\n",
    "        ### END YOUR CODE\n",
    "    return (bigram_log_likelilhood,trigram_log_likelilhood)\n",
    "   \n",
    "sentence = \"spider man spider man does whatever a spider can\"\n",
    "bigram_log_likelilhood, trigram_log_likelilhood = sentence_log_probabilty(tf_idf.unigram_count, tf_idf.bigram_count, tf_idf.trigram_count, sentence)\n",
    "print(F\"Bigram log likelihood is {bigram_log_likelilhood}\")\n",
    "print(F\"Trigram log likelihood is {trigram_log_likelilhood}\")"
   ]
  },
  {
   "cell_type": "markdown",
   "metadata": {},
   "source": [
    "## 1.51 Language model: B\n",
    "For each model what is the next word prediciton for the sentnence \"like big\"?"
   ]
  },
  {
   "cell_type": "code",
   "execution_count": 21,
   "metadata": {},
   "outputs": [
    {
     "name": "stdout",
     "output_type": "stream",
     "text": [
      "Bigram model next word prediction: ('big', 704)\n",
      "Trigram model next word prediction: ('deal', 41)\n"
     ]
    }
   ],
   "source": [
    "### YOUR CODE HERE\n",
    "bigram_potential_next_words = [(k[1], tf_idf.bigram_count[k]) for k in tf_idf.bigram_count.keys() if k[0]=='big']\n",
    "best_candidate_bi = ('', 0)\n",
    "for word, cntr in bigram_potential_next_words:\n",
    "    if cntr > best_candidate_bi[1]:\n",
    "        best_candidate_bi = (word, cntr)\n",
    "print(f\"Bigram model next word prediction: {best_candidate_bi}\")\n",
    "\n",
    "trigram_potential_next_words = [(k[2], tf_idf.trigram_count[k]) for k in tf_idf.trigram_count.keys() if k[0]=='like' and  k[1]=='big']\n",
    "best_candidate_tri = ('', 0)\n",
    "for word, cntr in trigram_potential_next_words:\n",
    "    if cntr > best_candidate_tri[1]:\n",
    "        best_candidate_tri = (word, cntr)\n",
    "print(f\"Trigram model next word prediction: {best_candidate_tri}\")\n",
    "### END YOUR CODE"
   ]
  }
 ],
 "metadata": {
  "kernelspec": {
   "display_name": "Python 3",
   "language": "python",
   "name": "python3"
  },
  "language_info": {
   "codemirror_mode": {
    "name": "ipython",
    "version": 3
   },
   "file_extension": ".py",
   "mimetype": "text/x-python",
   "name": "python",
   "nbconvert_exporter": "python",
   "pygments_lexer": "ipython3",
   "version": "3.8.5"
  },
  "metadata": {
   "interpreter": {
    "hash": "6d90c337e9f2db91fe7cf84780d0c362fe1853f02eb73d7a73b3447f64712c7a"
   }
  }
 },
 "nbformat": 4,
 "nbformat_minor": 4
}
